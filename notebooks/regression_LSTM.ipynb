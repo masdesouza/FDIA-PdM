{
  "nbformat": 4,
  "nbformat_minor": 0,
  "metadata": {
    "colab": {
      "name": "regression_LSTM.ipynb",
      "provenance": [],
      "authorship_tag": "ABX9TyOGaEorK+v0QZYy2/wWuSb3",
      "include_colab_link": true
    },
    "kernelspec": {
      "name": "python3",
      "display_name": "Python 3"
    },
    "language_info": {
      "name": "python"
    }
  },
  "cells": [
    {
      "cell_type": "markdown",
      "metadata": {
        "id": "view-in-github",
        "colab_type": "text"
      },
      "source": [
        "<a href=\"https://colab.research.google.com/github/masdesouza/FDIA-PdM/blob/master/notebooks/regression_LSTM.ipynb\" target=\"_parent\"><img src=\"https://colab.research.google.com/assets/colab-badge.svg\" alt=\"Open In Colab\"/></a>"
      ]
    },
    {
      "cell_type": "markdown",
      "metadata": {
        "id": "uz6glXxI7DuG"
      },
      "source": [
        "# 1. Import modules"
      ]
    },
    {
      "cell_type": "code",
      "metadata": {
        "id": "QBvfFUN0jIoz"
      },
      "source": [
        "# Regression models: How many more cycles an in-service engine will last before it fails?\n",
        "import tensorflow.keras\n",
        "import tensorflow.keras.backend as K\n",
        "from tensorflow.keras.models import Sequential,load_model\n",
        "from tensorflow.keras.layers import Dense, Dropout, LSTM, Activation\n",
        "\n",
        "import pandas as pd\n",
        "import numpy as np\n",
        "import matplotlib.pyplot as plt\n",
        "import os\n",
        "from sklearn import preprocessing"
      ],
      "execution_count": 1,
      "outputs": []
    },
    {
      "cell_type": "markdown",
      "metadata": {
        "id": "lgpUOOvm7HvI"
      },
      "source": [
        "# 2. Configuration"
      ]
    },
    {
      "cell_type": "code",
      "metadata": {
        "id": "hyFmNwFC7Kd0"
      },
      "source": [
        "# Setting seed for reproducibility\n",
        "np.random.seed(1234)  \n",
        "PYTHONHASHSEED = 0\n",
        "\n",
        "# define path to save model\n",
        "model_path = '/content/drive/MyDrive/PFC/FDIA-PdM/Trained models/LSTM/regression_model_LSTM.h5'"
      ],
      "execution_count": 4,
      "outputs": []
    },
    {
      "cell_type": "markdown",
      "metadata": {
        "id": "yd1JjpX-7Lpr"
      },
      "source": [
        "# 2.1 Import dataset\n"
      ]
    },
    {
      "cell_type": "code",
      "metadata": {
        "id": "J0bsIcjL7OTt",
        "outputId": "f30dcb73-0307-4f64-b3e9-b963e3287fa0",
        "colab": {
          "base_uri": "https://localhost:8080/"
        }
      },
      "source": [
        "import os\n",
        "import pickle\n",
        "from google.colab import drive\n",
        "from google.colab import files\n",
        "\n",
        "drive.mount('/content/drive')\n",
        "os.chdir(\"/content/drive/MyDrive\")"
      ],
      "execution_count": 5,
      "outputs": [
        {
          "output_type": "stream",
          "name": "stdout",
          "text": [
            "Drive already mounted at /content/drive; to attempt to forcibly remount, call drive.mount(\"/content/drive\", force_remount=True).\n"
          ]
        }
      ]
    },
    {
      "cell_type": "markdown",
      "metadata": {
        "id": "qHgtDE3W7O8q"
      },
      "source": [
        "# 3. Data Ingestion"
      ]
    },
    {
      "cell_type": "code",
      "metadata": {
        "id": "3P1VL3ms7RwS"
      },
      "source": [
        ""
      ],
      "execution_count": null,
      "outputs": []
    },
    {
      "cell_type": "markdown",
      "metadata": {
        "id": "LjLCxiFh7STk"
      },
      "source": [
        "# 4. Data Preprocessing"
      ]
    },
    {
      "cell_type": "code",
      "metadata": {
        "id": "iaaZ3HaP7VJX"
      },
      "source": [
        ""
      ],
      "execution_count": null,
      "outputs": []
    },
    {
      "cell_type": "markdown",
      "metadata": {
        "id": "yb7Opl8r7W43"
      },
      "source": [
        "# 4.1 Train"
      ]
    },
    {
      "cell_type": "code",
      "metadata": {
        "id": "yx85zB087Yrd"
      },
      "source": [
        ""
      ],
      "execution_count": null,
      "outputs": []
    },
    {
      "cell_type": "markdown",
      "metadata": {
        "id": "-wZKc7DA7agG"
      },
      "source": [
        "# 4.2 Test"
      ]
    },
    {
      "cell_type": "code",
      "metadata": {
        "id": "IFJXEU7g7b1Q"
      },
      "source": [
        ""
      ],
      "execution_count": null,
      "outputs": []
    },
    {
      "cell_type": "markdown",
      "metadata": {
        "id": "YAPED2ay7der"
      },
      "source": [
        "# 5. Modeling"
      ]
    },
    {
      "cell_type": "code",
      "metadata": {
        "id": "tiGB2r0A7eQ9"
      },
      "source": [
        ""
      ],
      "execution_count": null,
      "outputs": []
    },
    {
      "cell_type": "markdown",
      "metadata": {
        "id": "9PzQkGY77g4u"
      },
      "source": [
        "# 6. EVALUATE ON TEST DATA"
      ]
    },
    {
      "cell_type": "code",
      "metadata": {
        "id": "QrUvVTMD7jaw"
      },
      "source": [
        ""
      ],
      "execution_count": null,
      "outputs": []
    }
  ]
}