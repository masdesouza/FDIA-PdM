{
  "nbformat": 4,
  "nbformat_minor": 0,
  "metadata": {
    "colab": {
      "name": "regression_GRU.ipynb",
      "provenance": [],
      "authorship_tag": "ABX9TyMEkClTAaX70aP6x+/E5JWo",
      "include_colab_link": true
    },
    "kernelspec": {
      "name": "python3",
      "display_name": "Python 3"
    },
    "language_info": {
      "name": "python"
    }
  },
  "cells": [
    {
      "cell_type": "markdown",
      "metadata": {
        "id": "view-in-github",
        "colab_type": "text"
      },
      "source": [
        "<a href=\"https://colab.research.google.com/github/masdesouza/FDIA-PdM/blob/master/notebooks/regression_GRU.ipynb\" target=\"_parent\"><img src=\"https://colab.research.google.com/assets/colab-badge.svg\" alt=\"Open In Colab\"/></a>"
      ]
    },
    {
      "cell_type": "markdown",
      "metadata": {
        "id": "nYjN2bqIgmBg"
      },
      "source": [
        "# 1. Import modules"
      ]
    },
    {
      "cell_type": "code",
      "metadata": {
        "id": "vOCXNVQ4gnvD"
      },
      "source": [
        ""
      ],
      "execution_count": null,
      "outputs": []
    },
    {
      "cell_type": "markdown",
      "metadata": {
        "id": "W2b4jfSsgoXS"
      },
      "source": [
        "#2. Configuration"
      ]
    },
    {
      "cell_type": "code",
      "metadata": {
        "id": "y41vFJl-gsTf"
      },
      "source": [
        ""
      ],
      "execution_count": null,
      "outputs": []
    },
    {
      "cell_type": "markdown",
      "metadata": {
        "id": "Jsx-SQ88gtGK"
      },
      "source": [
        "##2.1 Import dataset"
      ]
    },
    {
      "cell_type": "code",
      "metadata": {
        "id": "2zwK5inlgtzv"
      },
      "source": [
        ""
      ],
      "execution_count": null,
      "outputs": []
    },
    {
      "cell_type": "markdown",
      "metadata": {
        "id": "fH0DPOUsg1wM"
      },
      "source": [
        "# 3. Data Ingestion"
      ]
    },
    {
      "cell_type": "code",
      "metadata": {
        "id": "8CunJNeXg6xh"
      },
      "source": [
        ""
      ],
      "execution_count": null,
      "outputs": []
    },
    {
      "cell_type": "markdown",
      "metadata": {
        "id": "sOTueI_xg8xO"
      },
      "source": [
        "#4. Data Preprocessing"
      ]
    },
    {
      "cell_type": "markdown",
      "metadata": {
        "id": "H-GH1JtLhABg"
      },
      "source": [
        "## 4.1 Train"
      ]
    },
    {
      "cell_type": "code",
      "metadata": {
        "id": "gG25eJqXhGZ6"
      },
      "source": [
        ""
      ],
      "execution_count": null,
      "outputs": []
    },
    {
      "cell_type": "markdown",
      "metadata": {
        "id": "Ok4qJFs6hGsl"
      },
      "source": [
        "## 4.2 Test\n"
      ]
    },
    {
      "cell_type": "code",
      "metadata": {
        "id": "aSpgcRqKhKZV"
      },
      "source": [
        ""
      ],
      "execution_count": null,
      "outputs": []
    },
    {
      "cell_type": "markdown",
      "metadata": {
        "id": "AbLvtnFVhOp2"
      },
      "source": [
        "#5. Modeling"
      ]
    },
    {
      "cell_type": "code",
      "metadata": {
        "id": "5KkvgBcthSAp"
      },
      "source": [
        ""
      ],
      "execution_count": null,
      "outputs": []
    },
    {
      "cell_type": "markdown",
      "metadata": {
        "id": "XqbrK2DLhTTZ"
      },
      "source": [
        "#6. EVALUATE ON TEST DATA\n"
      ]
    },
    {
      "cell_type": "code",
      "metadata": {
        "id": "IwAnSlN_hWaa"
      },
      "source": [
        ""
      ],
      "execution_count": null,
      "outputs": []
    }
  ]
}